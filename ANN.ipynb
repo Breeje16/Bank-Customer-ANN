{
  "nbformat": 4,
  "nbformat_minor": 0,
  "metadata": {
    "colab": {
      "name": "ANN.ipynb",
      "provenance": [],
      "collapsed_sections": []
    },
    "kernelspec": {
      "name": "python3",
      "display_name": "Python 3"
    },
    "language_info": {
      "name": "python"
    }
  },
  "cells": [
    {
      "cell_type": "code",
      "metadata": {
        "colab": {
          "base_uri": "https://localhost:8080/"
        },
        "id": "iR4jzjcGWqNy",
        "outputId": "dc097001-5598-43ff-ed12-e4b28dc455c1"
      },
      "source": [
        "!pip install pandas"
      ],
      "execution_count": null,
      "outputs": [
        {
          "output_type": "stream",
          "text": [
            "Requirement already satisfied: pandas in /usr/local/lib/python3.7/dist-packages (1.1.5)\n",
            "Requirement already satisfied: pytz>=2017.2 in /usr/local/lib/python3.7/dist-packages (from pandas) (2018.9)\n",
            "Requirement already satisfied: python-dateutil>=2.7.3 in /usr/local/lib/python3.7/dist-packages (from pandas) (2.8.1)\n",
            "Requirement already satisfied: numpy>=1.15.4 in /usr/local/lib/python3.7/dist-packages (from pandas) (1.19.5)\n",
            "Requirement already satisfied: six>=1.5 in /usr/local/lib/python3.7/dist-packages (from python-dateutil>=2.7.3->pandas) (1.15.0)\n"
          ],
          "name": "stdout"
        }
      ]
    },
    {
      "cell_type": "code",
      "metadata": {
        "id": "5wjwUlPtYn3H"
      },
      "source": [
        "# Part 1 - Data Preprocessing\n",
        "\n",
        "# Importing the libraries\n",
        "import numpy as np\n",
        "import matplotlib.pyplot as plt\n",
        "import pandas as pd"
      ],
      "execution_count": null,
      "outputs": []
    },
    {
      "cell_type": "code",
      "metadata": {
        "id": "Ht8amMr7Ys1z"
      },
      "source": [
        "# Importing the dataset\n",
        "dataset = pd.read_csv('/content/drive/MyDrive/Colab Notebooks/Datasets/Churn_Modelling.csv')\n",
        "X = dataset.iloc[:, 3:13]\n",
        "y = dataset.iloc[:, 13]"
      ],
      "execution_count": null,
      "outputs": []
    },
    {
      "cell_type": "code",
      "metadata": {
        "colab": {
          "base_uri": "https://localhost:8080/",
          "height": 224
        },
        "id": "sGtbu953YzPi",
        "outputId": "3fa0fa98-f826-4328-e125-f4ebc03ff7fd"
      },
      "source": [
        "dataset.head()"
      ],
      "execution_count": null,
      "outputs": [
        {
          "output_type": "execute_result",
          "data": {
            "text/html": [
              "<div>\n",
              "<style scoped>\n",
              "    .dataframe tbody tr th:only-of-type {\n",
              "        vertical-align: middle;\n",
              "    }\n",
              "\n",
              "    .dataframe tbody tr th {\n",
              "        vertical-align: top;\n",
              "    }\n",
              "\n",
              "    .dataframe thead th {\n",
              "        text-align: right;\n",
              "    }\n",
              "</style>\n",
              "<table border=\"1\" class=\"dataframe\">\n",
              "  <thead>\n",
              "    <tr style=\"text-align: right;\">\n",
              "      <th></th>\n",
              "      <th>RowNumber</th>\n",
              "      <th>CustomerId</th>\n",
              "      <th>Surname</th>\n",
              "      <th>CreditScore</th>\n",
              "      <th>Geography</th>\n",
              "      <th>Gender</th>\n",
              "      <th>Age</th>\n",
              "      <th>Tenure</th>\n",
              "      <th>Balance</th>\n",
              "      <th>NumOfProducts</th>\n",
              "      <th>HasCrCard</th>\n",
              "      <th>IsActiveMember</th>\n",
              "      <th>EstimatedSalary</th>\n",
              "      <th>Exited</th>\n",
              "    </tr>\n",
              "  </thead>\n",
              "  <tbody>\n",
              "    <tr>\n",
              "      <th>0</th>\n",
              "      <td>1</td>\n",
              "      <td>15634602</td>\n",
              "      <td>Hargrave</td>\n",
              "      <td>619</td>\n",
              "      <td>France</td>\n",
              "      <td>Female</td>\n",
              "      <td>42</td>\n",
              "      <td>2</td>\n",
              "      <td>0.00</td>\n",
              "      <td>1</td>\n",
              "      <td>1</td>\n",
              "      <td>1</td>\n",
              "      <td>101348.88</td>\n",
              "      <td>1</td>\n",
              "    </tr>\n",
              "    <tr>\n",
              "      <th>1</th>\n",
              "      <td>2</td>\n",
              "      <td>15647311</td>\n",
              "      <td>Hill</td>\n",
              "      <td>608</td>\n",
              "      <td>Spain</td>\n",
              "      <td>Female</td>\n",
              "      <td>41</td>\n",
              "      <td>1</td>\n",
              "      <td>83807.86</td>\n",
              "      <td>1</td>\n",
              "      <td>0</td>\n",
              "      <td>1</td>\n",
              "      <td>112542.58</td>\n",
              "      <td>0</td>\n",
              "    </tr>\n",
              "    <tr>\n",
              "      <th>2</th>\n",
              "      <td>3</td>\n",
              "      <td>15619304</td>\n",
              "      <td>Onio</td>\n",
              "      <td>502</td>\n",
              "      <td>France</td>\n",
              "      <td>Female</td>\n",
              "      <td>42</td>\n",
              "      <td>8</td>\n",
              "      <td>159660.80</td>\n",
              "      <td>3</td>\n",
              "      <td>1</td>\n",
              "      <td>0</td>\n",
              "      <td>113931.57</td>\n",
              "      <td>1</td>\n",
              "    </tr>\n",
              "    <tr>\n",
              "      <th>3</th>\n",
              "      <td>4</td>\n",
              "      <td>15701354</td>\n",
              "      <td>Boni</td>\n",
              "      <td>699</td>\n",
              "      <td>France</td>\n",
              "      <td>Female</td>\n",
              "      <td>39</td>\n",
              "      <td>1</td>\n",
              "      <td>0.00</td>\n",
              "      <td>2</td>\n",
              "      <td>0</td>\n",
              "      <td>0</td>\n",
              "      <td>93826.63</td>\n",
              "      <td>0</td>\n",
              "    </tr>\n",
              "    <tr>\n",
              "      <th>4</th>\n",
              "      <td>5</td>\n",
              "      <td>15737888</td>\n",
              "      <td>Mitchell</td>\n",
              "      <td>850</td>\n",
              "      <td>Spain</td>\n",
              "      <td>Female</td>\n",
              "      <td>43</td>\n",
              "      <td>2</td>\n",
              "      <td>125510.82</td>\n",
              "      <td>1</td>\n",
              "      <td>1</td>\n",
              "      <td>1</td>\n",
              "      <td>79084.10</td>\n",
              "      <td>0</td>\n",
              "    </tr>\n",
              "  </tbody>\n",
              "</table>\n",
              "</div>"
            ],
            "text/plain": [
              "   RowNumber  CustomerId   Surname  ...  IsActiveMember EstimatedSalary Exited\n",
              "0          1    15634602  Hargrave  ...               1       101348.88      1\n",
              "1          2    15647311      Hill  ...               1       112542.58      0\n",
              "2          3    15619304      Onio  ...               0       113931.57      1\n",
              "3          4    15701354      Boni  ...               0        93826.63      0\n",
              "4          5    15737888  Mitchell  ...               1        79084.10      0\n",
              "\n",
              "[5 rows x 14 columns]"
            ]
          },
          "metadata": {
            "tags": []
          },
          "execution_count": 4
        }
      ]
    },
    {
      "cell_type": "code",
      "metadata": {
        "colab": {
          "base_uri": "https://localhost:8080/"
        },
        "id": "ZlNNgjo7Y1pC",
        "outputId": "0b2221a6-6d4e-49d3-d514-676fcdf93dab"
      },
      "source": [
        "dataset.isnull().sum()"
      ],
      "execution_count": null,
      "outputs": [
        {
          "output_type": "execute_result",
          "data": {
            "text/plain": [
              "RowNumber          0\n",
              "CustomerId         0\n",
              "Surname            0\n",
              "CreditScore        0\n",
              "Geography          0\n",
              "Gender             0\n",
              "Age                0\n",
              "Tenure             0\n",
              "Balance            0\n",
              "NumOfProducts      0\n",
              "HasCrCard          0\n",
              "IsActiveMember     0\n",
              "EstimatedSalary    0\n",
              "Exited             0\n",
              "dtype: int64"
            ]
          },
          "metadata": {
            "tags": []
          },
          "execution_count": 5
        }
      ]
    },
    {
      "cell_type": "code",
      "metadata": {
        "id": "D43dcRKrbfsh"
      },
      "source": [
        "#Create dummy variables\n",
        "geography=pd.get_dummies(X[\"Geography\"],drop_first=True)\n",
        "gender=pd.get_dummies(X['Gender'],drop_first=True)"
      ],
      "execution_count": null,
      "outputs": []
    },
    {
      "cell_type": "code",
      "metadata": {
        "id": "K802U0yJb7Ju"
      },
      "source": [
        "## Concatenate the Data Frames\n",
        "\n",
        "X=pd.concat([X,geography,gender],axis=1)\n",
        "\n",
        "## Drop Unnecessary columns\n",
        "X=X.drop(['Geography','Gender'],axis=1)"
      ],
      "execution_count": null,
      "outputs": []
    },
    {
      "cell_type": "code",
      "metadata": {
        "colab": {
          "base_uri": "https://localhost:8080/"
        },
        "id": "u0uHDASRcCel",
        "outputId": "11640d00-8993-4269-885e-aa2643123ebe"
      },
      "source": [
        "X.shape"
      ],
      "execution_count": null,
      "outputs": [
        {
          "output_type": "execute_result",
          "data": {
            "text/plain": [
              "(10000, 11)"
            ]
          },
          "metadata": {
            "tags": []
          },
          "execution_count": 8
        }
      ]
    },
    {
      "cell_type": "code",
      "metadata": {
        "colab": {
          "base_uri": "https://localhost:8080/",
          "height": 204
        },
        "id": "RlMf9zcGcHzR",
        "outputId": "93413775-6314-4963-966e-a5227bf5d0da"
      },
      "source": [
        "X.head()"
      ],
      "execution_count": null,
      "outputs": [
        {
          "output_type": "execute_result",
          "data": {
            "text/html": [
              "<div>\n",
              "<style scoped>\n",
              "    .dataframe tbody tr th:only-of-type {\n",
              "        vertical-align: middle;\n",
              "    }\n",
              "\n",
              "    .dataframe tbody tr th {\n",
              "        vertical-align: top;\n",
              "    }\n",
              "\n",
              "    .dataframe thead th {\n",
              "        text-align: right;\n",
              "    }\n",
              "</style>\n",
              "<table border=\"1\" class=\"dataframe\">\n",
              "  <thead>\n",
              "    <tr style=\"text-align: right;\">\n",
              "      <th></th>\n",
              "      <th>CreditScore</th>\n",
              "      <th>Age</th>\n",
              "      <th>Tenure</th>\n",
              "      <th>Balance</th>\n",
              "      <th>NumOfProducts</th>\n",
              "      <th>HasCrCard</th>\n",
              "      <th>IsActiveMember</th>\n",
              "      <th>EstimatedSalary</th>\n",
              "      <th>Germany</th>\n",
              "      <th>Spain</th>\n",
              "      <th>Male</th>\n",
              "    </tr>\n",
              "  </thead>\n",
              "  <tbody>\n",
              "    <tr>\n",
              "      <th>0</th>\n",
              "      <td>619</td>\n",
              "      <td>42</td>\n",
              "      <td>2</td>\n",
              "      <td>0.00</td>\n",
              "      <td>1</td>\n",
              "      <td>1</td>\n",
              "      <td>1</td>\n",
              "      <td>101348.88</td>\n",
              "      <td>0</td>\n",
              "      <td>0</td>\n",
              "      <td>0</td>\n",
              "    </tr>\n",
              "    <tr>\n",
              "      <th>1</th>\n",
              "      <td>608</td>\n",
              "      <td>41</td>\n",
              "      <td>1</td>\n",
              "      <td>83807.86</td>\n",
              "      <td>1</td>\n",
              "      <td>0</td>\n",
              "      <td>1</td>\n",
              "      <td>112542.58</td>\n",
              "      <td>0</td>\n",
              "      <td>1</td>\n",
              "      <td>0</td>\n",
              "    </tr>\n",
              "    <tr>\n",
              "      <th>2</th>\n",
              "      <td>502</td>\n",
              "      <td>42</td>\n",
              "      <td>8</td>\n",
              "      <td>159660.80</td>\n",
              "      <td>3</td>\n",
              "      <td>1</td>\n",
              "      <td>0</td>\n",
              "      <td>113931.57</td>\n",
              "      <td>0</td>\n",
              "      <td>0</td>\n",
              "      <td>0</td>\n",
              "    </tr>\n",
              "    <tr>\n",
              "      <th>3</th>\n",
              "      <td>699</td>\n",
              "      <td>39</td>\n",
              "      <td>1</td>\n",
              "      <td>0.00</td>\n",
              "      <td>2</td>\n",
              "      <td>0</td>\n",
              "      <td>0</td>\n",
              "      <td>93826.63</td>\n",
              "      <td>0</td>\n",
              "      <td>0</td>\n",
              "      <td>0</td>\n",
              "    </tr>\n",
              "    <tr>\n",
              "      <th>4</th>\n",
              "      <td>850</td>\n",
              "      <td>43</td>\n",
              "      <td>2</td>\n",
              "      <td>125510.82</td>\n",
              "      <td>1</td>\n",
              "      <td>1</td>\n",
              "      <td>1</td>\n",
              "      <td>79084.10</td>\n",
              "      <td>0</td>\n",
              "      <td>1</td>\n",
              "      <td>0</td>\n",
              "    </tr>\n",
              "  </tbody>\n",
              "</table>\n",
              "</div>"
            ],
            "text/plain": [
              "   CreditScore  Age  Tenure    Balance  ...  EstimatedSalary  Germany  Spain  Male\n",
              "0          619   42       2       0.00  ...        101348.88        0      0     0\n",
              "1          608   41       1   83807.86  ...        112542.58        0      1     0\n",
              "2          502   42       8  159660.80  ...        113931.57        0      0     0\n",
              "3          699   39       1       0.00  ...         93826.63        0      0     0\n",
              "4          850   43       2  125510.82  ...         79084.10        0      1     0\n",
              "\n",
              "[5 rows x 11 columns]"
            ]
          },
          "metadata": {
            "tags": []
          },
          "execution_count": 9
        }
      ]
    },
    {
      "cell_type": "code",
      "metadata": {
        "id": "tBhMtvLMcI50"
      },
      "source": [
        "from sklearn.model_selection import train_test_split\n",
        "X_train, X_test, y_train, y_test = train_test_split(X, y, test_size= 0.2, random_state = 0)"
      ],
      "execution_count": null,
      "outputs": []
    },
    {
      "cell_type": "code",
      "metadata": {
        "id": "xu_ia73kclGM"
      },
      "source": [
        "# Feature Scaling\n",
        "from sklearn.preprocessing import StandardScaler\n",
        "sc = StandardScaler()\n",
        "X_train = sc.fit_transform(X_train)\n",
        "X_test = sc.transform(X_test)"
      ],
      "execution_count": null,
      "outputs": []
    },
    {
      "cell_type": "code",
      "metadata": {
        "colab": {
          "base_uri": "https://localhost:8080/"
        },
        "id": "RI7InmJJcoo2",
        "outputId": "218e9c32-e194-47d1-9875-3d6a6f32e969"
      },
      "source": [
        "import tensorflow\n",
        "print(tensorflow.__version__)"
      ],
      "execution_count": null,
      "outputs": [
        {
          "output_type": "stream",
          "text": [
            "2.5.0\n"
          ],
          "name": "stdout"
        }
      ]
    },
    {
      "cell_type": "code",
      "metadata": {
        "id": "oPn2KpUzcsJc"
      },
      "source": [
        "# Part 2 - Now let's make the ANN!\n",
        "\n",
        "# Importing the Keras libraries and packages\n",
        "import tensorflow.keras\n",
        "from tensorflow.keras.models import Sequential\n",
        "from tensorflow.keras.layers import Dense\n",
        "from tensorflow.keras.layers import Dropout"
      ],
      "execution_count": null,
      "outputs": []
    },
    {
      "cell_type": "code",
      "metadata": {
        "colab": {
          "base_uri": "https://localhost:8080/"
        },
        "id": "bMO6h3FxdKf5",
        "outputId": "0413c1ed-3eef-4262-c791-56ea90e383a8"
      },
      "source": [
        "# Initialising the ANN\n",
        "classifier = Sequential()\n",
        "\n",
        "# Adding the input layer and the first hidden layer\n",
        "classifier.add(Dense(units= 10, kernel_initializer= 'he_uniform', activation= 'relu',input_dim = 11))\n",
        "\n",
        "# Adding the second hidden layer\n",
        "classifier.add(Dense(units = 10, kernel_initializer = 'he_uniform',activation='relu'))\n",
        "# Adding the output layer\n",
        "classifier.add(Dense(units = 1, kernel_initializer = 'glorot_uniform', activation = 'sigmoid'))\n",
        "\n",
        "# Compiling the ANN\n",
        "classifier.compile(optimizer = 'adam', loss = 'binary_crossentropy', metrics = ['accuracy'])\n",
        "\n",
        "classifier.summary()"
      ],
      "execution_count": null,
      "outputs": [
        {
          "output_type": "stream",
          "text": [
            "Model: \"sequential\"\n",
            "_________________________________________________________________\n",
            "Layer (type)                 Output Shape              Param #   \n",
            "=================================================================\n",
            "dense (Dense)                (None, 10)                120       \n",
            "_________________________________________________________________\n",
            "dense_1 (Dense)              (None, 10)                110       \n",
            "_________________________________________________________________\n",
            "dense_2 (Dense)              (None, 1)                 11        \n",
            "=================================================================\n",
            "Total params: 241\n",
            "Trainable params: 241\n",
            "Non-trainable params: 0\n",
            "_________________________________________________________________\n"
          ],
          "name": "stdout"
        }
      ]
    },
    {
      "cell_type": "code",
      "metadata": {
        "colab": {
          "base_uri": "https://localhost:8080/"
        },
        "id": "j08SkwlheKN9",
        "outputId": "d5937554-f3bc-4875-d762-361dbe840ebe"
      },
      "source": [
        "# Fitting the ANN to the Training set\n",
        "model_history=classifier.fit(X_train, y_train,validation_split=0.33, batch_size = 100,epochs = 100)"
      ],
      "execution_count": null,
      "outputs": [
        {
          "output_type": "stream",
          "text": [
            "Epoch 1/100\n",
            "54/54 [==============================] - 1s 9ms/step - loss: 0.6759 - accuracy: 0.5550 - val_loss: 0.6155 - val_accuracy: 0.6634\n",
            "Epoch 2/100\n",
            "54/54 [==============================] - 0s 2ms/step - loss: 0.5730 - accuracy: 0.7287 - val_loss: 0.5527 - val_accuracy: 0.7671\n",
            "Epoch 3/100\n",
            "54/54 [==============================] - 0s 2ms/step - loss: 0.5253 - accuracy: 0.7876 - val_loss: 0.5206 - val_accuracy: 0.7929\n",
            "Epoch 4/100\n",
            "54/54 [==============================] - 0s 2ms/step - loss: 0.4985 - accuracy: 0.8005 - val_loss: 0.4997 - val_accuracy: 0.7974\n",
            "Epoch 5/100\n",
            "54/54 [==============================] - 0s 3ms/step - loss: 0.4809 - accuracy: 0.8035 - val_loss: 0.4848 - val_accuracy: 0.8023\n",
            "Epoch 6/100\n",
            "54/54 [==============================] - 0s 2ms/step - loss: 0.4675 - accuracy: 0.8059 - val_loss: 0.4724 - val_accuracy: 0.8020\n",
            "Epoch 7/100\n",
            "54/54 [==============================] - 0s 3ms/step - loss: 0.4563 - accuracy: 0.8076 - val_loss: 0.4622 - val_accuracy: 0.8027\n",
            "Epoch 8/100\n",
            "54/54 [==============================] - 0s 2ms/step - loss: 0.4469 - accuracy: 0.8100 - val_loss: 0.4529 - val_accuracy: 0.8076\n",
            "Epoch 9/100\n",
            "54/54 [==============================] - 0s 3ms/step - loss: 0.4390 - accuracy: 0.8138 - val_loss: 0.4456 - val_accuracy: 0.8080\n",
            "Epoch 10/100\n",
            "54/54 [==============================] - 0s 2ms/step - loss: 0.4318 - accuracy: 0.8156 - val_loss: 0.4386 - val_accuracy: 0.8073\n",
            "Epoch 11/100\n",
            "54/54 [==============================] - 0s 2ms/step - loss: 0.4262 - accuracy: 0.8169 - val_loss: 0.4335 - val_accuracy: 0.8084\n",
            "Epoch 12/100\n",
            "54/54 [==============================] - 0s 2ms/step - loss: 0.4212 - accuracy: 0.8209 - val_loss: 0.4295 - val_accuracy: 0.8126\n",
            "Epoch 13/100\n",
            "54/54 [==============================] - 0s 2ms/step - loss: 0.4170 - accuracy: 0.8225 - val_loss: 0.4264 - val_accuracy: 0.8137\n",
            "Epoch 14/100\n",
            "54/54 [==============================] - 0s 2ms/step - loss: 0.4133 - accuracy: 0.8220 - val_loss: 0.4238 - val_accuracy: 0.8152\n",
            "Epoch 15/100\n",
            "54/54 [==============================] - 0s 2ms/step - loss: 0.4102 - accuracy: 0.8235 - val_loss: 0.4210 - val_accuracy: 0.8164\n",
            "Epoch 16/100\n",
            "54/54 [==============================] - 0s 2ms/step - loss: 0.4069 - accuracy: 0.8244 - val_loss: 0.4191 - val_accuracy: 0.8167\n",
            "Epoch 17/100\n",
            "54/54 [==============================] - 0s 3ms/step - loss: 0.4042 - accuracy: 0.8259 - val_loss: 0.4174 - val_accuracy: 0.8179\n",
            "Epoch 18/100\n",
            "54/54 [==============================] - 0s 3ms/step - loss: 0.4017 - accuracy: 0.8265 - val_loss: 0.4154 - val_accuracy: 0.8186\n",
            "Epoch 19/100\n",
            "54/54 [==============================] - 0s 3ms/step - loss: 0.3990 - accuracy: 0.8276 - val_loss: 0.4136 - val_accuracy: 0.8186\n",
            "Epoch 20/100\n",
            "54/54 [==============================] - 0s 3ms/step - loss: 0.3966 - accuracy: 0.8280 - val_loss: 0.4123 - val_accuracy: 0.8198\n",
            "Epoch 21/100\n",
            "54/54 [==============================] - 0s 2ms/step - loss: 0.3942 - accuracy: 0.8308 - val_loss: 0.4104 - val_accuracy: 0.8239\n",
            "Epoch 22/100\n",
            "54/54 [==============================] - 0s 3ms/step - loss: 0.3914 - accuracy: 0.8334 - val_loss: 0.4088 - val_accuracy: 0.8247\n",
            "Epoch 23/100\n",
            "54/54 [==============================] - 0s 2ms/step - loss: 0.3891 - accuracy: 0.8339 - val_loss: 0.4073 - val_accuracy: 0.8251\n",
            "Epoch 24/100\n",
            "54/54 [==============================] - 0s 2ms/step - loss: 0.3866 - accuracy: 0.8364 - val_loss: 0.4057 - val_accuracy: 0.8243\n",
            "Epoch 25/100\n",
            "54/54 [==============================] - 0s 2ms/step - loss: 0.3844 - accuracy: 0.8364 - val_loss: 0.4043 - val_accuracy: 0.8251\n",
            "Epoch 26/100\n",
            "54/54 [==============================] - 0s 2ms/step - loss: 0.3818 - accuracy: 0.8386 - val_loss: 0.4028 - val_accuracy: 0.8243\n",
            "Epoch 27/100\n",
            "54/54 [==============================] - 0s 2ms/step - loss: 0.3795 - accuracy: 0.8405 - val_loss: 0.4011 - val_accuracy: 0.8262\n",
            "Epoch 28/100\n",
            "54/54 [==============================] - 0s 3ms/step - loss: 0.3775 - accuracy: 0.8421 - val_loss: 0.3998 - val_accuracy: 0.8292\n",
            "Epoch 29/100\n",
            "54/54 [==============================] - 0s 3ms/step - loss: 0.3754 - accuracy: 0.8427 - val_loss: 0.3982 - val_accuracy: 0.8270\n",
            "Epoch 30/100\n",
            "54/54 [==============================] - 0s 3ms/step - loss: 0.3733 - accuracy: 0.8447 - val_loss: 0.3973 - val_accuracy: 0.8262\n",
            "Epoch 31/100\n",
            "54/54 [==============================] - 0s 3ms/step - loss: 0.3713 - accuracy: 0.8461 - val_loss: 0.3960 - val_accuracy: 0.8262\n",
            "Epoch 32/100\n",
            "54/54 [==============================] - 0s 3ms/step - loss: 0.3694 - accuracy: 0.8466 - val_loss: 0.3951 - val_accuracy: 0.8273\n",
            "Epoch 33/100\n",
            "54/54 [==============================] - 0s 2ms/step - loss: 0.3676 - accuracy: 0.8466 - val_loss: 0.3941 - val_accuracy: 0.8273\n",
            "Epoch 34/100\n",
            "54/54 [==============================] - 0s 2ms/step - loss: 0.3659 - accuracy: 0.8477 - val_loss: 0.3929 - val_accuracy: 0.8292\n",
            "Epoch 35/100\n",
            "54/54 [==============================] - 0s 3ms/step - loss: 0.3639 - accuracy: 0.8483 - val_loss: 0.3918 - val_accuracy: 0.8292\n",
            "Epoch 36/100\n",
            "54/54 [==============================] - 0s 2ms/step - loss: 0.3622 - accuracy: 0.8468 - val_loss: 0.3902 - val_accuracy: 0.8304\n",
            "Epoch 37/100\n",
            "54/54 [==============================] - 0s 2ms/step - loss: 0.3606 - accuracy: 0.8503 - val_loss: 0.3892 - val_accuracy: 0.8311\n",
            "Epoch 38/100\n",
            "54/54 [==============================] - 0s 2ms/step - loss: 0.3587 - accuracy: 0.8509 - val_loss: 0.3880 - val_accuracy: 0.8307\n",
            "Epoch 39/100\n",
            "54/54 [==============================] - 0s 2ms/step - loss: 0.3569 - accuracy: 0.8526 - val_loss: 0.3864 - val_accuracy: 0.8311\n",
            "Epoch 40/100\n",
            "54/54 [==============================] - 0s 3ms/step - loss: 0.3550 - accuracy: 0.8537 - val_loss: 0.3856 - val_accuracy: 0.8315\n",
            "Epoch 41/100\n",
            "54/54 [==============================] - 0s 3ms/step - loss: 0.3533 - accuracy: 0.8535 - val_loss: 0.3843 - val_accuracy: 0.8311\n",
            "Epoch 42/100\n",
            "54/54 [==============================] - 0s 3ms/step - loss: 0.3517 - accuracy: 0.8546 - val_loss: 0.3832 - val_accuracy: 0.8338\n",
            "Epoch 43/100\n",
            "54/54 [==============================] - 0s 2ms/step - loss: 0.3501 - accuracy: 0.8548 - val_loss: 0.3826 - val_accuracy: 0.8319\n",
            "Epoch 44/100\n",
            "54/54 [==============================] - 0s 3ms/step - loss: 0.3485 - accuracy: 0.8561 - val_loss: 0.3814 - val_accuracy: 0.8345\n",
            "Epoch 45/100\n",
            "54/54 [==============================] - 0s 3ms/step - loss: 0.3468 - accuracy: 0.8569 - val_loss: 0.3803 - val_accuracy: 0.8326\n",
            "Epoch 46/100\n",
            "54/54 [==============================] - 0s 3ms/step - loss: 0.3452 - accuracy: 0.8586 - val_loss: 0.3794 - val_accuracy: 0.8345\n",
            "Epoch 47/100\n",
            "54/54 [==============================] - 0s 2ms/step - loss: 0.3437 - accuracy: 0.8582 - val_loss: 0.3782 - val_accuracy: 0.8360\n",
            "Epoch 48/100\n",
            "54/54 [==============================] - 0s 3ms/step - loss: 0.3428 - accuracy: 0.8595 - val_loss: 0.3771 - val_accuracy: 0.8360\n",
            "Epoch 49/100\n",
            "54/54 [==============================] - 0s 2ms/step - loss: 0.3410 - accuracy: 0.8597 - val_loss: 0.3765 - val_accuracy: 0.8357\n",
            "Epoch 50/100\n",
            "54/54 [==============================] - 0s 2ms/step - loss: 0.3401 - accuracy: 0.8604 - val_loss: 0.3754 - val_accuracy: 0.8372\n",
            "Epoch 51/100\n",
            "54/54 [==============================] - 0s 2ms/step - loss: 0.3389 - accuracy: 0.8600 - val_loss: 0.3750 - val_accuracy: 0.8383\n",
            "Epoch 52/100\n",
            "54/54 [==============================] - 0s 2ms/step - loss: 0.3384 - accuracy: 0.8614 - val_loss: 0.3741 - val_accuracy: 0.8383\n",
            "Epoch 53/100\n",
            "54/54 [==============================] - 0s 3ms/step - loss: 0.3374 - accuracy: 0.8623 - val_loss: 0.3738 - val_accuracy: 0.8402\n",
            "Epoch 54/100\n",
            "54/54 [==============================] - 0s 2ms/step - loss: 0.3362 - accuracy: 0.8627 - val_loss: 0.3734 - val_accuracy: 0.8413\n",
            "Epoch 55/100\n",
            "54/54 [==============================] - 0s 2ms/step - loss: 0.3358 - accuracy: 0.8619 - val_loss: 0.3729 - val_accuracy: 0.8398\n",
            "Epoch 56/100\n",
            "54/54 [==============================] - 0s 3ms/step - loss: 0.3351 - accuracy: 0.8619 - val_loss: 0.3717 - val_accuracy: 0.8417\n",
            "Epoch 57/100\n",
            "54/54 [==============================] - 0s 2ms/step - loss: 0.3344 - accuracy: 0.8632 - val_loss: 0.3716 - val_accuracy: 0.8429\n",
            "Epoch 58/100\n",
            "54/54 [==============================] - 0s 3ms/step - loss: 0.3337 - accuracy: 0.8608 - val_loss: 0.3712 - val_accuracy: 0.8432\n",
            "Epoch 59/100\n",
            "54/54 [==============================] - 0s 3ms/step - loss: 0.3329 - accuracy: 0.8653 - val_loss: 0.3708 - val_accuracy: 0.8444\n",
            "Epoch 60/100\n",
            "54/54 [==============================] - 0s 3ms/step - loss: 0.3325 - accuracy: 0.8634 - val_loss: 0.3700 - val_accuracy: 0.8440\n",
            "Epoch 61/100\n",
            "54/54 [==============================] - 0s 3ms/step - loss: 0.3316 - accuracy: 0.8649 - val_loss: 0.3701 - val_accuracy: 0.8455\n",
            "Epoch 62/100\n",
            "54/54 [==============================] - 0s 3ms/step - loss: 0.3312 - accuracy: 0.8628 - val_loss: 0.3698 - val_accuracy: 0.8455\n",
            "Epoch 63/100\n",
            "54/54 [==============================] - 0s 2ms/step - loss: 0.3311 - accuracy: 0.8636 - val_loss: 0.3693 - val_accuracy: 0.8463\n",
            "Epoch 64/100\n",
            "54/54 [==============================] - 0s 2ms/step - loss: 0.3298 - accuracy: 0.8632 - val_loss: 0.3689 - val_accuracy: 0.8466\n",
            "Epoch 65/100\n",
            "54/54 [==============================] - 0s 2ms/step - loss: 0.3297 - accuracy: 0.8653 - val_loss: 0.3683 - val_accuracy: 0.8478\n",
            "Epoch 66/100\n",
            "54/54 [==============================] - 0s 3ms/step - loss: 0.3297 - accuracy: 0.8634 - val_loss: 0.3679 - val_accuracy: 0.8474\n",
            "Epoch 67/100\n",
            "54/54 [==============================] - 0s 3ms/step - loss: 0.3290 - accuracy: 0.8651 - val_loss: 0.3676 - val_accuracy: 0.8489\n",
            "Epoch 68/100\n",
            "54/54 [==============================] - 0s 3ms/step - loss: 0.3283 - accuracy: 0.8664 - val_loss: 0.3673 - val_accuracy: 0.8497\n",
            "Epoch 69/100\n",
            "54/54 [==============================] - 0s 3ms/step - loss: 0.3280 - accuracy: 0.8640 - val_loss: 0.3673 - val_accuracy: 0.8489\n",
            "Epoch 70/100\n",
            "54/54 [==============================] - 0s 2ms/step - loss: 0.3280 - accuracy: 0.8636 - val_loss: 0.3667 - val_accuracy: 0.8512\n",
            "Epoch 71/100\n",
            "54/54 [==============================] - 0s 2ms/step - loss: 0.3274 - accuracy: 0.8658 - val_loss: 0.3671 - val_accuracy: 0.8482\n",
            "Epoch 72/100\n",
            "54/54 [==============================] - 0s 3ms/step - loss: 0.3270 - accuracy: 0.8640 - val_loss: 0.3663 - val_accuracy: 0.8531\n",
            "Epoch 73/100\n",
            "54/54 [==============================] - 0s 2ms/step - loss: 0.3267 - accuracy: 0.8664 - val_loss: 0.3657 - val_accuracy: 0.8527\n",
            "Epoch 74/100\n",
            "54/54 [==============================] - 0s 3ms/step - loss: 0.3262 - accuracy: 0.8630 - val_loss: 0.3657 - val_accuracy: 0.8527\n",
            "Epoch 75/100\n",
            "54/54 [==============================] - 0s 2ms/step - loss: 0.3261 - accuracy: 0.8660 - val_loss: 0.3651 - val_accuracy: 0.8550\n",
            "Epoch 76/100\n",
            "54/54 [==============================] - 0s 2ms/step - loss: 0.3257 - accuracy: 0.8653 - val_loss: 0.3655 - val_accuracy: 0.8531\n",
            "Epoch 77/100\n",
            "54/54 [==============================] - 0s 4ms/step - loss: 0.3256 - accuracy: 0.8653 - val_loss: 0.3646 - val_accuracy: 0.8546\n",
            "Epoch 78/100\n",
            "54/54 [==============================] - 0s 2ms/step - loss: 0.3254 - accuracy: 0.8664 - val_loss: 0.3646 - val_accuracy: 0.8531\n",
            "Epoch 79/100\n",
            "54/54 [==============================] - 0s 3ms/step - loss: 0.3248 - accuracy: 0.8662 - val_loss: 0.3647 - val_accuracy: 0.8504\n",
            "Epoch 80/100\n",
            "54/54 [==============================] - 0s 3ms/step - loss: 0.3247 - accuracy: 0.8653 - val_loss: 0.3641 - val_accuracy: 0.8542\n",
            "Epoch 81/100\n",
            "54/54 [==============================] - 0s 3ms/step - loss: 0.3244 - accuracy: 0.8651 - val_loss: 0.3641 - val_accuracy: 0.8535\n",
            "Epoch 82/100\n",
            "54/54 [==============================] - 0s 3ms/step - loss: 0.3238 - accuracy: 0.8653 - val_loss: 0.3640 - val_accuracy: 0.8516\n",
            "Epoch 83/100\n",
            "54/54 [==============================] - 0s 2ms/step - loss: 0.3236 - accuracy: 0.8666 - val_loss: 0.3636 - val_accuracy: 0.8538\n",
            "Epoch 84/100\n",
            "54/54 [==============================] - 0s 2ms/step - loss: 0.3236 - accuracy: 0.8656 - val_loss: 0.3636 - val_accuracy: 0.8512\n",
            "Epoch 85/100\n",
            "54/54 [==============================] - 0s 2ms/step - loss: 0.3235 - accuracy: 0.8649 - val_loss: 0.3633 - val_accuracy: 0.8523\n",
            "Epoch 86/100\n",
            "54/54 [==============================] - 0s 2ms/step - loss: 0.3229 - accuracy: 0.8666 - val_loss: 0.3631 - val_accuracy: 0.8523\n",
            "Epoch 87/100\n",
            "54/54 [==============================] - 0s 2ms/step - loss: 0.3229 - accuracy: 0.8671 - val_loss: 0.3634 - val_accuracy: 0.8527\n",
            "Epoch 88/100\n",
            "54/54 [==============================] - 0s 2ms/step - loss: 0.3227 - accuracy: 0.8664 - val_loss: 0.3625 - val_accuracy: 0.8546\n",
            "Epoch 89/100\n",
            "54/54 [==============================] - 0s 2ms/step - loss: 0.3226 - accuracy: 0.8658 - val_loss: 0.3622 - val_accuracy: 0.8527\n",
            "Epoch 90/100\n",
            "54/54 [==============================] - 0s 3ms/step - loss: 0.3218 - accuracy: 0.8664 - val_loss: 0.3621 - val_accuracy: 0.8519\n",
            "Epoch 91/100\n",
            "54/54 [==============================] - 0s 3ms/step - loss: 0.3217 - accuracy: 0.8668 - val_loss: 0.3618 - val_accuracy: 0.8523\n",
            "Epoch 92/100\n",
            "54/54 [==============================] - 0s 2ms/step - loss: 0.3216 - accuracy: 0.8675 - val_loss: 0.3615 - val_accuracy: 0.8531\n",
            "Epoch 93/100\n",
            "54/54 [==============================] - 0s 2ms/step - loss: 0.3215 - accuracy: 0.8671 - val_loss: 0.3615 - val_accuracy: 0.8531\n",
            "Epoch 94/100\n",
            "54/54 [==============================] - 0s 3ms/step - loss: 0.3213 - accuracy: 0.8673 - val_loss: 0.3614 - val_accuracy: 0.8531\n",
            "Epoch 95/100\n",
            "54/54 [==============================] - 0s 3ms/step - loss: 0.3215 - accuracy: 0.8671 - val_loss: 0.3618 - val_accuracy: 0.8512\n",
            "Epoch 96/100\n",
            "54/54 [==============================] - 0s 2ms/step - loss: 0.3210 - accuracy: 0.8683 - val_loss: 0.3612 - val_accuracy: 0.8546\n",
            "Epoch 97/100\n",
            "54/54 [==============================] - 0s 2ms/step - loss: 0.3210 - accuracy: 0.8668 - val_loss: 0.3610 - val_accuracy: 0.8538\n",
            "Epoch 98/100\n",
            "54/54 [==============================] - 0s 3ms/step - loss: 0.3207 - accuracy: 0.8683 - val_loss: 0.3611 - val_accuracy: 0.8542\n",
            "Epoch 99/100\n",
            "54/54 [==============================] - 0s 2ms/step - loss: 0.3201 - accuracy: 0.8664 - val_loss: 0.3618 - val_accuracy: 0.8523\n",
            "Epoch 100/100\n",
            "54/54 [==============================] - 0s 2ms/step - loss: 0.3203 - accuracy: 0.8688 - val_loss: 0.3605 - val_accuracy: 0.8531\n"
          ],
          "name": "stdout"
        }
      ]
    },
    {
      "cell_type": "code",
      "metadata": {
        "colab": {
          "base_uri": "https://localhost:8080/",
          "height": 312
        },
        "id": "CainPQT8eZKH",
        "outputId": "e8c76b93-f677-4ea3-e5b1-90bc15c026d8"
      },
      "source": [
        "# list all data in history\n",
        "\n",
        "print(model_history.history.keys())\n",
        "# summarize history for accuracy\n",
        "plt.plot(model_history.history['accuracy'])\n",
        "plt.plot(model_history.history['val_accuracy'])\n",
        "plt.title('model accuracy')\n",
        "plt.ylabel('accuracy')\n",
        "plt.xlabel('epoch')\n",
        "plt.legend(['train', 'test'], loc='upper left')\n",
        "plt.show()"
      ],
      "execution_count": null,
      "outputs": [
        {
          "output_type": "stream",
          "text": [
            "dict_keys(['loss', 'accuracy', 'val_loss', 'val_accuracy'])\n"
          ],
          "name": "stdout"
        },
        {
          "output_type": "display_data",
          "data": {
            "image/png": "[encoded data removed]",
            "text/plain": [
              "<Figure size 432x288 with 1 Axes>"
            ]
          },
          "metadata": {
            "tags": [],
            "needs_background": "light"
          }
        }
      ]
    },
    {
      "cell_type": "code",
      "metadata": {
        "colab": {
          "base_uri": "https://localhost:8080/",
          "height": 295
        },
        "id": "TMB1P6qUe1-0",
        "outputId": "740e66ee-fa6c-495a-f86c-f6b9002725d3"
      },
      "source": [
        "# summarize history for loss\n",
        "plt.plot(model_history.history['loss'])\n",
        "plt.plot(model_history.history['val_loss'])\n",
        "plt.title('model loss')\n",
        "plt.ylabel('loss')\n",
        "plt.xlabel('epoch')\n",
        "plt.legend(['train', 'test'], loc='upper left')\n",
        "plt.show()"
      ],
      "execution_count": null,
      "outputs": [
        {
          "output_type": "display_data",
          "data": {
            "image/png": "[encoded data removed]",
            "text/plain": [
              "<Figure size 432x288 with 1 Axes>"
            ]
          },
          "metadata": {
            "tags": [],
            "needs_background": "light"
          }
        }
      ]
    },
    {
      "cell_type": "code",
      "metadata": {
        "colab": {
          "base_uri": "https://localhost:8080/"
        },
        "id": "bpENuCzae-A4",
        "outputId": "bdc819c6-cff8-48b3-f37e-0ce2a174214d"
      },
      "source": [
        "# Part 3 - Making the predictions and evaluating the model\n",
        "\n",
        "# Predicting the Test set results\n",
        "y_pred = classifier.predict(X_test)\n",
        "y_pred = (y_pred > 0.5)\n",
        "y_pred"
      ],
      "execution_count": null,
      "outputs": [
        {
          "output_type": "execute_result",
          "data": {
            "text/plain": [
              "array([[False],\n",
              "       [False],\n",
              "       [False],\n",
              "       ...,\n",
              "       [False],\n",
              "       [False],\n",
              "       [False]])"
            ]
          },
          "metadata": {
            "tags": []
          },
          "execution_count": 20
        }
      ]
    },
    {
      "cell_type": "code",
      "metadata": {
        "id": "csiiociufCjm"
      },
      "source": [
        "# Making the Confusion Matrix\n",
        "from sklearn.metrics import confusion_matrix\n",
        "cm = confusion_matrix(y_test, y_pred)"
      ],
      "execution_count": null,
      "outputs": []
    },
    {
      "cell_type": "code",
      "metadata": {
        "colab": {
          "base_uri": "https://localhost:8080/"
        },
        "id": "XQR162khfGRg",
        "outputId": "b0bfb977-ab78-4274-9252-75a4187729af"
      },
      "source": [
        "cm"
      ],
      "execution_count": null,
      "outputs": [
        {
          "output_type": "execute_result",
          "data": {
            "text/plain": [
              "array([[1507,   88],\n",
              "       [ 196,  209]])"
            ]
          },
          "metadata": {
            "tags": []
          },
          "execution_count": 22
        }
      ]
    },
    {
      "cell_type": "code",
      "metadata": {
        "id": "nQpx68GwfJY7"
      },
      "source": [
        "# Calculate the Accuracy\n",
        "from sklearn.metrics import accuracy_score\n",
        "score=accuracy_score(y_pred,y_test)"
      ],
      "execution_count": null,
      "outputs": []
    },
    {
      "cell_type": "code",
      "metadata": {
        "colab": {
          "base_uri": "https://localhost:8080/"
        },
        "id": "DV3-zoBUfKKe",
        "outputId": "e1ac1824-3d3c-463c-d79e-b27030915b30"
      },
      "source": [
        "score"
      ],
      "execution_count": null,
      "outputs": [
        {
          "output_type": "execute_result",
          "data": {
            "text/plain": [
              "0.858"
            ]
          },
          "metadata": {
            "tags": []
          },
          "execution_count": 24
        }
      ]
    },
    {
      "cell_type": "code",
      "metadata": {
        "id": "3ya097GufK2t"
      },
      "source": [
        ""
      ],
      "execution_count": null,
      "outputs": []
    }
  ]
}